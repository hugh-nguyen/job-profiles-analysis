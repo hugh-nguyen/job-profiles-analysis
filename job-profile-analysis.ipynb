{
 "cells": [
  {
   "cell_type": "markdown",
   "id": "4453586f-32bc-44e2-8493-8e37f1cf7564",
   "metadata": {},
   "source": [
    "## Job Profile Analysis"
   ]
  },
  {
   "cell_type": "markdown",
   "id": "ca334a6b-709c-4207-b4b6-ac58d68331a7",
   "metadata": {},
   "source": [
    "#### 1 - Please load the dataset into a Spark dataframe"
   ]
  },
  {
   "cell_type": "code",
   "execution_count": 1,
   "id": "1f86ffd1-e7f7-43c7-9a30-27f8539d17e8",
   "metadata": {
    "tags": []
   },
   "outputs": [
    {
     "name": "stdout",
     "output_type": "stream",
     "text": [
      "+--------------------+---------+--------+--------------------+\n",
      "|                  id|firstName|lastName|           jobDetail|\n",
      "+--------------------+---------+--------+--------------------+\n",
      "|e23c7ab2-6479-401...|Elizabeth| Robledo|{2013-03-13, Pert...|\n",
      "|a4c6238d-0aed-4eb...|    Karen|   Bozek|{2013-10-12, Hoba...|\n",
      "|a4c6238d-0aed-4eb...|    Karen|   Bozek|{2011-11-25, Hoba...|\n",
      "|a4c6238d-0aed-4eb...|    Karen|   Bozek|{2008-11-18, Hoba...|\n",
      "|a4c6238d-0aed-4eb...|    Karen|   Bozek|{2006-09-02, Hoba...|\n",
      "|a4c6238d-0aed-4eb...|    Karen|   Bozek|{2003-07-19, Hoba...|\n",
      "|a4c6238d-0aed-4eb...|    Karen|   Bozek|{2001-01-26, Hoba...|\n",
      "|a4c6238d-0aed-4eb...|    Karen|   Bozek|{2000-04-14, Hoba...|\n",
      "|a4c6238d-0aed-4eb...|    Karen|   Bozek|{1996-08-04, Hoba...|\n",
      "|dcbae85f-4971-4fd...|     Lisa|   Grell|{2015-07-14, Bris...|\n",
      "+--------------------+---------+--------+--------------------+\n",
      "only showing top 10 rows\n",
      "\n",
      "CPU times: user 528 ms, sys: 52.3 ms, total: 581 ms\n",
      "Wall time: 1min 23s\n"
     ]
    }
   ],
   "source": [
    "%%time\n",
    "\n",
    "from pyspark.sql import SparkSession\n",
    "from pyspark.sql.functions import explode, asc, desc\n",
    "from modules.common import get_flattened_job_profile_data\n",
    "\n",
    "spark = SparkSession.builder.appName(\"job-profile-analysis\").getOrCreate()\n",
    "\n",
    "df = spark.read.option(\"inferSchema\", \"true\").json(\"test_data/*.json\")\n",
    "\n",
    "# flatten the df to make analysis easier\n",
    "df = get_flattened_job_profile_data(df)\n",
    "\n",
    "df.show(10)"
   ]
  },
  {
   "cell_type": "markdown",
   "id": "cf81ced1-b9d2-4c91-a885-cc2107824d31",
   "metadata": {
    "tags": []
   },
   "source": [
    "#### 2 - Print the schema"
   ]
  },
  {
   "cell_type": "code",
   "execution_count": 2,
   "id": "e5182a91-7d7e-4d2c-b7f7-e3b259dcae29",
   "metadata": {
    "tags": []
   },
   "outputs": [
    {
     "name": "stdout",
     "output_type": "stream",
     "text": [
      "root\n",
      " |-- id: string (nullable = true)\n",
      " |-- firstName: string (nullable = true)\n",
      " |-- lastName: string (nullable = true)\n",
      " |-- jobDetail: struct (nullable = true)\n",
      " |    |-- fromDate: string (nullable = true)\n",
      " |    |-- location: string (nullable = true)\n",
      " |    |-- salary: long (nullable = true)\n",
      " |    |-- title: string (nullable = true)\n",
      " |    |-- toDate: string (nullable = true)\n",
      "\n"
     ]
    }
   ],
   "source": [
    "df.printSchema()"
   ]
  },
  {
   "cell_type": "markdown",
   "id": "ee875079-69b4-4b6a-a60c-f366addd525b",
   "metadata": {},
   "source": [
    "#### 3 - How many records are there in the dataset?"
   ]
  },
  {
   "cell_type": "code",
   "execution_count": 3,
   "id": "83042bae-4388-4bd9-b461-8c54e7d202d6",
   "metadata": {
    "tags": []
   },
   "outputs": [
    {
     "data": {
      "text/plain": [
       "77135383"
      ]
     },
     "execution_count": 3,
     "metadata": {},
     "output_type": "execute_result"
    }
   ],
   "source": [
    "df.count()"
   ]
  },
  {
   "cell_type": "markdown",
   "id": "2422f018-893a-4fa3-8670-14da69355cf8",
   "metadata": {
    "tags": []
   },
   "source": [
    "#### 4 - What is the average salary for each profile?\n",
    "##### Display the first 10 results, ordered by lastName in descending order"
   ]
  },
  {
   "cell_type": "code",
   "execution_count": 4,
   "id": "db99c7ec-ebdd-47f6-95af-5c7cc4451a9e",
   "metadata": {
    "tags": []
   },
   "outputs": [
    {
     "name": "stdout",
     "output_type": "stream",
     "text": [
      "+--------------------+---------+----------+---------+\n",
      "|                  id|firstName|  lastName|avgSalary|\n",
      "+--------------------+---------+----------+---------+\n",
      "|01603b1b-34cd-49c...|   Hector|     Myers| 159000.0|\n",
      "|5a0a4a63-cdc4-4db...|    Daren| Bjorklund| 159000.0|\n",
      "|0159f5b4-87e7-40f...|       Ha|   Pearson| 159000.0|\n",
      "|e9a4feb9-490b-4c3...|  Christy|    Packer| 159000.0|\n",
      "|00ec95b7-8ae5-457...|     Tana|Lethbridge| 159000.0|\n",
      "|d28f679e-26c8-4a4...|      Eva|   Barrese| 159000.0|\n",
      "|01c195ad-2ae3-4eb...|    Karen|   Kilgore| 159000.0|\n",
      "|9a7072e2-7023-491...|  Pauline|   Wallace| 159000.0|\n",
      "|0186b17d-97eb-43c...|   Freida|   Collier| 159000.0|\n",
      "|84ce538f-0803-432...|  William|   Cernoch| 159000.0|\n",
      "+--------------------+---------+----------+---------+\n",
      "\n",
      "CPU times: user 484 ms, sys: 64.3 ms, total: 549 ms\n",
      "Wall time: 3min 5s\n"
     ]
    }
   ],
   "source": [
    "%%time\n",
    "\n",
    "from modules.dataframes_by_profile import get_average_salaries_by_profile\n",
    "\n",
    "get_average_salaries_by_profile(df) \\\n",
    "    .orderBy(desc('avgSalary')) \\\n",
    "    .limit(10) \\\n",
    "    .show()"
   ]
  },
  {
   "cell_type": "markdown",
   "id": "94fdeea6-cc06-447f-a743-67e8d020bdb6",
   "metadata": {},
   "source": [
    "#### 5 - What is the average salary across the whole dataset?"
   ]
  },
  {
   "cell_type": "code",
   "execution_count": 5,
   "id": "40e84c4e-290f-4841-85c3-7ce43c436c78",
   "metadata": {
    "tags": []
   },
   "outputs": [
    {
     "name": "stdout",
     "output_type": "stream",
     "text": [
      "+---------+\n",
      "|avgSalary|\n",
      "+---------+\n",
      "| 97473.62|\n",
      "+---------+\n",
      "\n",
      "CPU times: user 482 ms, sys: 57.6 ms, total: 540 ms\n",
      "Wall time: 2min 45s\n"
     ]
    }
   ],
   "source": [
    "%%time\n",
    "\n",
    "from modules.dataframes_by_profile import get_average_salary_for_all_profiles\n",
    "\n",
    "get_average_salary_for_all_profiles(df).show()"
   ]
  },
  {
   "cell_type": "markdown",
   "id": "87d18057-98c6-4fad-b2a2-427f2c531794",
   "metadata": {},
   "source": [
    "#### 6 - On average, what are the top 5 paying jobs? Bottom 5 paying jobs?\n",
    "##### If there is a tie, please order by title, ~~location~~."
   ]
  },
  {
   "cell_type": "code",
   "execution_count": 6,
   "id": "b864d044-84ee-4f8e-a3d0-0b13a7a6c6b7",
   "metadata": {
    "tags": []
   },
   "outputs": [
    {
     "name": "stdout",
     "output_type": "stream",
     "text": [
      "Top 5 paying jobs\n",
      "+--------------------+---------+\n",
      "|            jobTitle|avgSalary|\n",
      "+--------------------+---------+\n",
      "|      internal sales| 97555.94|\n",
      "|  service technician| 97539.87|\n",
      "|     support analyst| 97515.95|\n",
      "|clinical psycholo...| 97515.49|\n",
      "|             dentist| 97515.09|\n",
      "+--------------------+---------+\n",
      "\n",
      "Bottom 5 paying jobs\n",
      "+--------------------+---------+\n",
      "|            jobTitle|avgSalary|\n",
      "+--------------------+---------+\n",
      "|business developm...| 97410.55|\n",
      "|    research analyst| 97412.93|\n",
      "|retail sales cons...| 97419.07|\n",
      "|administration of...| 97423.83|\n",
      "|           paralegal| 97432.44|\n",
      "+--------------------+---------+\n",
      "\n",
      "CPU times: user 1.08 s, sys: 160 ms, total: 1.24 s\n",
      "Wall time: 5min 56s\n"
     ]
    }
   ],
   "source": [
    "%%time\n",
    "\n",
    "from modules.dataframes_by_title import get_average_salaries_by_job_title\n",
    "\n",
    "result = get_average_salaries_by_job_title(df)\n",
    "\n",
    "print('Top 5 paying jobs')\n",
    "result.orderBy(desc('avgSalary'), 'jobTitle').limit(5).show()\n",
    "\n",
    "print('Bottom 5 paying jobs')\n",
    "result.orderBy(asc('avgSalary'), 'jobTitle').limit(5).show()"
   ]
  },
  {
   "cell_type": "markdown",
   "id": "fa3055fd-ff9f-47af-bd3f-1d3ba1ce38fe",
   "metadata": {
    "tags": []
   },
   "source": [
    "#### 7 - Who is currently making the most money?\n",
    "##### If there is a tie, please order in lastName descending, fromDate descending."
   ]
  },
  {
   "cell_type": "code",
   "execution_count": 7,
   "id": "aa09afd7-fc46-48fb-b9a1-4a31b15cfbdb",
   "metadata": {
    "tags": []
   },
   "outputs": [
    {
     "name": "stdout",
     "output_type": "stream",
     "text": [
      "+--------------------+---------+--------+-------------+\n",
      "|                  id|firstName|lastName|currentSalary|\n",
      "+--------------------+---------+--------+-------------+\n",
      "|986bd01f-ce46-419...| Clifford|  Gaines|       159000|\n",
      "|c931437e-fff3-44c...|     Vera|  Foster|       159000|\n",
      "|f24dd42a-a7d1-40b...|      Bob|  Barron|       159000|\n",
      "|6e239288-f398-4c5...|    Marie|   Davis|       159000|\n",
      "|1bcfde3d-0ded-4e7...| Danielle|   Lopez|       159000|\n",
      "|7c45c326-90cf-45b...|   Rachel|  Morton|       159000|\n",
      "|a875bc9e-77bc-424...|  Rebecca|  Carter|       159000|\n",
      "|712d1c3e-f86b-4cc...|   Amelia|Pressley|       159000|\n",
      "|699660ff-3f27-4aa...|   Stacey|   Lundy|       159000|\n",
      "|ac4ba9d2-2ca1-466...| Virginia|  Cawyer|       159000|\n",
      "|a06acd0e-1a32-40d...|   Dennis|  Jacobo|       159000|\n",
      "|a77956d0-6c32-4e7...|    Cathy|  Hodges|       159000|\n",
      "|842c26cc-53ad-44e...|      Eva|   Wolff|       159000|\n",
      "|ee5bd600-31d7-45e...|     Alma| Santana|       159000|\n",
      "|4cd6e9e1-e494-40e...|     Anna|   Roque|       159000|\n",
      "|fc708247-c253-402...| Michelle| Terrana|       159000|\n",
      "|0a7a3a76-2aeb-4f5...|     Ruth|   Roman|       159000|\n",
      "|25745b02-b18f-481...|  Terence|   Thorn|       159000|\n",
      "|b7edf907-9eec-4d8...|   Nellie|    Cash|       159000|\n",
      "|f32c2a92-3290-4e3...|    Vilma|  Marion|       159000|\n",
      "+--------------------+---------+--------+-------------+\n",
      "only showing top 20 rows\n",
      "\n",
      "CPU times: user 1.44 s, sys: 206 ms, total: 1.65 s\n",
      "Wall time: 6min 34s\n"
     ]
    }
   ],
   "source": [
    "%%time\n",
    "\n",
    "from modules.common import get_max_rows_for_column\n",
    "from modules.dataframes_by_profile import get_current_salaries_by_profile\n",
    "\n",
    "result = get_current_salaries_by_profile(df)\n",
    "result = get_max_rows_for_column(result, 'currentSalary')\n",
    "result.show()"
   ]
  },
  {
   "cell_type": "markdown",
   "id": "7029ae35-0682-4a31-9df7-23ba1c0ab2a5",
   "metadata": {
    "tags": []
   },
   "source": [
    "#### 8 - What was the most popular job title that started in 2019?"
   ]
  },
  {
   "cell_type": "code",
   "execution_count": 8,
   "id": "dfb918b6-4cc0-4ca6-a5c8-d65e1e1fff7f",
   "metadata": {
    "tags": []
   },
   "outputs": [
    {
     "name": "stdout",
     "output_type": "stream",
     "text": [
      "+-----+-------------+----------+\n",
      "|title|firstSeenDate|occurrence|\n",
      "+-----+-------------+----------+\n",
      "+-----+-------------+----------+\n",
      "\n",
      "CPU times: user 1.63 s, sys: 274 ms, total: 1.9 s\n",
      "Wall time: 7min 24s\n"
     ]
    }
   ],
   "source": [
    "%%time\n",
    "\n",
    "from modules.dataframes_by_title import get_most_popular_job_titles\n",
    "\n",
    "get_most_popular_job_titles(df, 2019).show(1)"
   ]
  },
  {
   "cell_type": "markdown",
   "id": "90aa8059-fec8-417b-abdd-26d3e9d2f31d",
   "metadata": {},
   "source": [
    "#### 9 - How many people are currently working?"
   ]
  },
  {
   "cell_type": "code",
   "execution_count": 9,
   "id": "516add17-d48f-4e1e-910d-3978b9539907",
   "metadata": {
    "tags": []
   },
   "outputs": [
    {
     "name": "stdout",
     "output_type": "stream",
     "text": [
      "+-------------------------------+\n",
      "|count_of_current_people_working|\n",
      "+-------------------------------+\n",
      "|                        7710613|\n",
      "+-------------------------------+\n",
      "\n",
      "CPU times: user 332 ms, sys: 44.1 ms, total: 376 ms\n",
      "Wall time: 2min 38s\n"
     ]
    }
   ],
   "source": [
    "%%time\n",
    "\n",
    "from pyspark.sql.functions import countDistinct\n",
    "from modules.common import get_all_current_jobs\n",
    "\n",
    "get_all_current_jobs(df) \\\n",
    "    .select(countDistinct('id').alias('count_of_current_people_working')) \\\n",
    "    .show()"
   ]
  },
  {
   "cell_type": "markdown",
   "id": "89e62fbe-da59-41f5-9c27-b9c1870bcdab",
   "metadata": {},
   "source": [
    "#### 10 - For each person, list only their latest job\n",
    "##### Display the first 10 results, ordered by lastName descending, firstName ascending order."
   ]
  },
  {
   "cell_type": "code",
   "execution_count": 10,
   "id": "68113f30-b005-4ca9-919a-062d31680bf7",
   "metadata": {
    "tags": []
   },
   "outputs": [
    {
     "name": "stdout",
     "output_type": "stream",
     "text": [
      "+--------------------+---------+--------+--------------------+\n",
      "|                  id|firstName|lastName|           jobDetail|\n",
      "+--------------------+---------+--------+--------------------+\n",
      "|ba24222d-6e39-40d...|  Matthew|  Zywiec|{2017-04-23, Pert...|\n",
      "|5894afab-574f-429...|  Richard|  Zywiec|{2018-07-23, Sydn...|\n",
      "|82dab74c-3946-45b...|   Robert|  Zywiec|{2016-08-08, Adel...|\n",
      "|4e26c80a-8e84-46f...|    Bobby| Zywicki|{2017-12-11, Pert...|\n",
      "|f643f39c-e18a-430...|   Calvin| Zywicki|{2015-04-24, Adel...|\n",
      "|03aeca24-7be1-42a...|  Charles| Zywicki|{2016-06-10, Sydn...|\n",
      "|cc529ff4-2dbf-4ce...|  Cherryl| Zywicki|{2017-06-01, Pert...|\n",
      "|296999c2-8951-405...|Christine| Zywicki|{2018-09-16, Melb...|\n",
      "|f16672c0-424c-48c...|  Darlene| Zywicki|{2014-02-23, Adel...|\n",
      "|eeb15ed5-fb0d-4d6...|    Donna| Zywicki|{2019-01-23, Bris...|\n",
      "+--------------------+---------+--------+--------------------+\n",
      "\n",
      "CPU times: user 1.78 s, sys: 193 ms, total: 1.97 s\n",
      "Wall time: 10min 33s\n"
     ]
    }
   ],
   "source": [
    "%%time\n",
    "\n",
    "from modules.dataframes_by_profile import get_most_recent_jobs_by_profile\n",
    "\n",
    "get_most_recent_jobs_by_profile(df) \\\n",
    "    .orderBy(desc('lastName'), asc('firstName')) \\\n",
    "    .limit(10) \\\n",
    "    .show()"
   ]
  },
  {
   "cell_type": "markdown",
   "id": "128d4eda-5113-4ab1-840e-1a4ac9a25a16",
   "metadata": {},
   "source": [
    "#### 11 - For each person, list their highest paying job along with their first name, last name, salary and the year they made this salary\n",
    "##### Store the results in a dataframe, and then print out 10 results"
   ]
  },
  {
   "cell_type": "code",
   "execution_count": 11,
   "id": "9a523e6a-4369-4549-8c7a-8f605b3f7e58",
   "metadata": {
    "tags": []
   },
   "outputs": [
    {
     "name": "stdout",
     "output_type": "stream",
     "text": [
      "+------------------------------------+---------+------------+------------------------------+----------------------+--------------------+\n",
      "|id                                  |firstName|lastName    |highestPayingJobTitle         |highestPayingJobSalary|highestPayingJobYear|\n",
      "+------------------------------------+---------+------------+------------------------------+----------------------+--------------------+\n",
      "|00008a82-3345-419f-92ec-517bca432ba4|Alan     |Hawkins     |evaluator                     |87000                 |2016                |\n",
      "|00008d2e-3760-4527-94ee-a8e79e1f9209|Alfred   |Siu         |devops engineer               |61000                 |2015                |\n",
      "|0000aa9b-7c17-4894-8b7f-232c30b318b1|Juan     |Moss        |service technician            |85000                 |2018                |\n",
      "|0000b622-2709-4ef3-b651-acd05b101634|Mark     |Roy         |Support Analyst               |83000                 |2018                |\n",
      "|0000c8c2-af21-48dc-b41d-018e3ba8cd18|Wayne    |Hyman       |counter manager               |139000                |2017                |\n",
      "|00019089-c2f9-48dd-955e-d88e5d55316d|Linda    |Gardea      |business development manager  |83000                 |2016                |\n",
      "|0001a9dc-3396-40e2-ad20-a9148e07d17d|Steven   |Hilbert     |medical radiation technologist|79000                 |2018                |\n",
      "|0001da88-d735-4b97-ad48-2d26ff76e91d|Fred     |Bernhard    |counter manager               |98000                 |2015                |\n",
      "|0001f307-2457-4c60-ac01-9c3e62b64fc1|Donna    |Kaps        |procurement specialist        |107000                |2015                |\n",
      "|00021597-239e-47af-a665-6e20f1b2bd09|Robert   |Garrett     |business analyst              |113000                |2018                |\n",
      "|00032ef7-9cfa-4042-ad11-99876d3d5df0|Clinton  |Newborn     |sales representative          |87000                 |2016                |\n",
      "|00036521-2500-48a1-8c65-5f89d4a6ef61|Christine|Daughenbaugh|Sheetmetal Worker             |61000                 |2015                |\n",
      "|000399a1-fd66-4ec3-8b0b-d241702db6b6|Angie    |Watanabe    |enrolments officer            |140000                |2016                |\n",
      "|000399a1-fd66-4ec3-8b0b-d241702db6b6|Angie    |Watanabe    |technician                    |140000                |2015                |\n",
      "|000399a1-fd66-4ec3-8b0b-d241702db6b6|Angie    |Watanabe    |safety superintendent         |140000                |2012                |\n",
      "|00046076-a5c0-4988-b071-a4ec55e85f24|Robert   |Sambo       |physiotherapist               |61000                 |2018                |\n",
      "|000473fc-4151-471d-8e2c-447934c39d13|Sarah    |Mcroy       |clinical psychologist         |143000                |2016                |\n",
      "|0004a8c8-8d83-443f-bd23-5fceb6745bcf|Tracy    |Casto       |dental assistant              |68000                 |2014                |\n",
      "|0004a8c8-8d83-443f-bd23-5fceb6745bcf|Tracy    |Casto       |assembler                     |68000                 |2010                |\n",
      "|0004c923-1c9e-4998-bf79-3d23d92f2786|Alicia   |Mullins     |middleware specialist         |103000                |2014                |\n",
      "+------------------------------------+---------+------------+------------------------------+----------------------+--------------------+\n",
      "only showing top 20 rows\n",
      "\n",
      "CPU times: user 968 ms, sys: 178 ms, total: 1.15 s\n",
      "Wall time: 4min 7s\n"
     ]
    }
   ],
   "source": [
    "%%time\n",
    "\n",
    "from modules.dataframes_by_profile import get_highest_paying_job_by_profile\n",
    "\n",
    "df_result = get_highest_paying_job_by_profile(df)\n",
    "df_result.show(truncate=False)"
   ]
  },
  {
   "cell_type": "markdown",
   "id": "e820343f-adfe-4760-aeec-f0d91d309c37",
   "metadata": {},
   "source": [
    "#### 12 - Write out the last result (question 11) in parquet format, compressed, partitioned by the year of their highest paying job"
   ]
  },
  {
   "cell_type": "code",
   "execution_count": 12,
   "id": "edde5d74-725e-4c10-92a1-2e052e4311a0",
   "metadata": {
    "tags": []
   },
   "outputs": [
    {
     "name": "stdout",
     "output_type": "stream",
     "text": [
      "CPU times: user 1.83 s, sys: 260 ms, total: 2.09 s\n",
      "Wall time: 8min 19s\n"
     ]
    }
   ],
   "source": [
    "%%time\n",
    "\n",
    "df_result.write.partitionBy('highestPayingJobYear') \\\n",
    "    .parquet('output_data/', compression='gzip', mode='overwrite')"
   ]
  },
  {
   "cell_type": "code",
   "execution_count": null,
   "id": "f21a53ab-9300-4f7a-88f1-8392b33b8050",
   "metadata": {},
   "outputs": [],
   "source": []
  }
 ],
 "metadata": {
  "kernelspec": {
   "display_name": "Python 3 (ipykernel)",
   "language": "python",
   "name": "python3"
  },
  "language_info": {
   "codemirror_mode": {
    "name": "ipython",
    "version": 3
   },
   "file_extension": ".py",
   "mimetype": "text/x-python",
   "name": "python",
   "nbconvert_exporter": "python",
   "pygments_lexer": "ipython3",
   "version": "3.10.10"
  }
 },
 "nbformat": 4,
 "nbformat_minor": 5
}
