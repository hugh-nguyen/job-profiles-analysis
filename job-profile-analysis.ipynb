{
 "cells": [
  {
   "cell_type": "markdown",
   "id": "ca334a6b-709c-4207-b4b6-ac58d68331a7",
   "metadata": {},
   "source": [
    "#### 1 - Please load the dataset into a Spark dataframe"
   ]
  },
  {
   "cell_type": "code",
   "execution_count": 1,
   "id": "1f86ffd1-e7f7-43c7-9a30-27f8539d17e8",
   "metadata": {
    "tags": []
   },
   "outputs": [
    {
     "name": "stdout",
     "output_type": "stream",
     "text": [
      "+--------------------+---------+--------+--------------------+\n",
      "|                  id|firstName|lastName|           jobDetail|\n",
      "+--------------------+---------+--------+--------------------+\n",
      "|e23c7ab2-6479-401...|Elizabeth| Robledo|{2013-03-13, Pert...|\n",
      "|a4c6238d-0aed-4eb...|    Karen|   Bozek|{2013-10-12, Hoba...|\n",
      "|a4c6238d-0aed-4eb...|    Karen|   Bozek|{2011-11-25, Hoba...|\n",
      "|a4c6238d-0aed-4eb...|    Karen|   Bozek|{2008-11-18, Hoba...|\n",
      "|a4c6238d-0aed-4eb...|    Karen|   Bozek|{2006-09-02, Hoba...|\n",
      "|a4c6238d-0aed-4eb...|    Karen|   Bozek|{2003-07-19, Hoba...|\n",
      "|a4c6238d-0aed-4eb...|    Karen|   Bozek|{2001-01-26, Hoba...|\n",
      "|a4c6238d-0aed-4eb...|    Karen|   Bozek|{2000-04-14, Hoba...|\n",
      "|a4c6238d-0aed-4eb...|    Karen|   Bozek|{1996-08-04, Hoba...|\n",
      "|dcbae85f-4971-4fd...|     Lisa|   Grell|{2015-07-14, Bris...|\n",
      "+--------------------+---------+--------+--------------------+\n",
      "only showing top 10 rows\n",
      "\n"
     ]
    }
   ],
   "source": [
    "from pyspark.sql import SparkSession\n",
    "from pyspark.sql.functions import explode, desc\n",
    "\n",
    "import util\n",
    "\n",
    "spark = SparkSession.builder.appName(\"job-profile-analysis\").getOrCreate()\n",
    "\n",
    "df = spark.read.option(\"inferSchema\", \"true\").json(\"test_data/*.json\")\n",
    "\n",
    "# flatten the df to make analysis easier\n",
    "df = util.get_flattened_job_profile_data(df)\n",
    "\n",
    "df.show(10)"
   ]
  },
  {
   "cell_type": "markdown",
   "id": "cf81ced1-b9d2-4c91-a885-cc2107824d31",
   "metadata": {
    "tags": []
   },
   "source": [
    "#### 2 - Print the schema"
   ]
  },
  {
   "cell_type": "code",
   "execution_count": 2,
   "id": "e5182a91-7d7e-4d2c-b7f7-e3b259dcae29",
   "metadata": {
    "tags": []
   },
   "outputs": [
    {
     "name": "stdout",
     "output_type": "stream",
     "text": [
      "root\n",
      " |-- id: string (nullable = true)\n",
      " |-- firstName: string (nullable = true)\n",
      " |-- lastName: string (nullable = true)\n",
      " |-- jobDetail: struct (nullable = true)\n",
      " |    |-- fromDate: string (nullable = true)\n",
      " |    |-- location: string (nullable = true)\n",
      " |    |-- salary: long (nullable = true)\n",
      " |    |-- title: string (nullable = true)\n",
      " |    |-- toDate: string (nullable = true)\n",
      "\n"
     ]
    }
   ],
   "source": [
    "df.printSchema()"
   ]
  },
  {
   "cell_type": "markdown",
   "id": "ee875079-69b4-4b6a-a60c-f366addd525b",
   "metadata": {},
   "source": [
    "#### 3 - How many records are there in the dataset?"
   ]
  },
  {
   "cell_type": "code",
   "execution_count": 3,
   "id": "83042bae-4388-4bd9-b461-8c54e7d202d6",
   "metadata": {
    "tags": []
   },
   "outputs": [
    {
     "data": {
      "text/plain": [
       "77135383"
      ]
     },
     "execution_count": 3,
     "metadata": {},
     "output_type": "execute_result"
    }
   ],
   "source": [
    "df.count()"
   ]
  },
  {
   "cell_type": "markdown",
   "id": "2422f018-893a-4fa3-8670-14da69355cf8",
   "metadata": {
    "tags": []
   },
   "source": [
    "#### 4 - What is the average salary for each profile?\n",
    "##### Display the first 10 results, ordered by lastName in descending order"
   ]
  },
  {
   "cell_type": "code",
   "execution_count": 4,
   "id": "db99c7ec-ebdd-47f6-95af-5c7cc4451a9e",
   "metadata": {
    "tags": []
   },
   "outputs": [
    {
     "name": "stdout",
     "output_type": "stream",
     "text": [
      "+--------------------+---------+----------+---------+\n",
      "|                  id|firstName|  lastName|avgSalary|\n",
      "+--------------------+---------+----------+---------+\n",
      "|01603b1b-34cd-49c...|   Hector|     Myers| 159000.0|\n",
      "|5a0a4a63-cdc4-4db...|    Daren| Bjorklund| 159000.0|\n",
      "|0159f5b4-87e7-40f...|       Ha|   Pearson| 159000.0|\n",
      "|e9a4feb9-490b-4c3...|  Christy|    Packer| 159000.0|\n",
      "|00ec95b7-8ae5-457...|     Tana|Lethbridge| 159000.0|\n",
      "|d28f679e-26c8-4a4...|      Eva|   Barrese| 159000.0|\n",
      "|01c195ad-2ae3-4eb...|    Karen|   Kilgore| 159000.0|\n",
      "|9a7072e2-7023-491...|  Pauline|   Wallace| 159000.0|\n",
      "|02256b8c-08b2-4e6...| Margaret|    Miller| 159000.0|\n",
      "|84ce538f-0803-432...|  William|   Cernoch| 159000.0|\n",
      "+--------------------+---------+----------+---------+\n",
      "\n"
     ]
    }
   ],
   "source": [
    "util.get_average_salaries_by_profile(df) \\\n",
    "    .orderBy(desc('avgSalary')) \\\n",
    "    .limit(10) \\\n",
    "    .show()"
   ]
  },
  {
   "cell_type": "markdown",
   "id": "94fdeea6-cc06-447f-a743-67e8d020bdb6",
   "metadata": {},
   "source": [
    "#### 5 - What is the average salary across the whole dataset?"
   ]
  },
  {
   "cell_type": "code",
   "execution_count": 5,
   "id": "40e84c4e-290f-4841-85c3-7ce43c436c78",
   "metadata": {
    "tags": []
   },
   "outputs": [
    {
     "name": "stdout",
     "output_type": "stream",
     "text": [
      "+---------+\n",
      "|avgSalary|\n",
      "+---------+\n",
      "| 97473.62|\n",
      "+---------+\n",
      "\n"
     ]
    }
   ],
   "source": [
    "util.get_average_salary_for_all_profiles(df).show()"
   ]
  },
  {
   "cell_type": "markdown",
   "id": "87d18057-98c6-4fad-b2a2-427f2c531794",
   "metadata": {},
   "source": [
    "#### 6 - On average, what are the top 5 paying jobs? Bottom 5 paying jobs?\n",
    "##### If there is a tie, please order by title, ~~location~~."
   ]
  },
  {
   "cell_type": "code",
   "execution_count": 6,
   "id": "b864d044-84ee-4f8e-a3d0-0b13a7a6c6b7",
   "metadata": {
    "tags": []
   },
   "outputs": [
    {
     "name": "stdout",
     "output_type": "stream",
     "text": [
      "Top 5 paying jobs\n",
      "+--------------------+---------+\n",
      "|            jobTitle|avgSalary|\n",
      "+--------------------+---------+\n",
      "|      internal sales| 97555.94|\n",
      "|  service technician| 97539.87|\n",
      "|     support analyst| 97515.95|\n",
      "|clinical psycholo...| 97515.49|\n",
      "|             dentist| 97515.09|\n",
      "+--------------------+---------+\n",
      "\n",
      "Bottom 5 paying jobs\n",
      "+--------------------+---------+\n",
      "|            jobTitle|avgSalary|\n",
      "+--------------------+---------+\n",
      "|business developm...| 97410.55|\n",
      "|    research analyst| 97412.93|\n",
      "|retail sales cons...| 97419.07|\n",
      "|administration of...| 97423.83|\n",
      "|           paralegal| 97432.44|\n",
      "+--------------------+---------+\n",
      "\n"
     ]
    }
   ],
   "source": [
    "print('Top 5 paying jobs')\n",
    "util.get_average_salaries_by_job_title(df) \\\n",
    "    .orderBy(desc('avgSalary'), 'jobTitle') \\\n",
    "    .limit(5) \\\n",
    "    .show()\n",
    "\n",
    "print('Bottom 5 paying jobs')\n",
    "util.get_average_salaries_by_job_title(df) \\\n",
    "    .orderBy('avgSalary', 'jobTitle') \\\n",
    "    .limit(5) \\\n",
    "    .show()"
   ]
  },
  {
   "cell_type": "markdown",
   "id": "fa3055fd-ff9f-47af-bd3f-1d3ba1ce38fe",
   "metadata": {
    "tags": []
   },
   "source": [
    "#### 7 - Who is currently making the most money?\n",
    "##### If there is a tie, please order in lastName descending, fromDate descending."
   ]
  },
  {
   "cell_type": "code",
   "execution_count": null,
   "id": "aa09afd7-fc46-48fb-b9a1-4a31b15cfbdb",
   "metadata": {
    "tags": []
   },
   "outputs": [],
   "source": [
    "result = util.get_current_salaries_by_profile(df)\n",
    "result = util.get_max_rows_for_column(result, 'currentSalary')\n",
    "result.show()"
   ]
  },
  {
   "cell_type": "markdown",
   "id": "7029ae35-0682-4a31-9df7-23ba1c0ab2a5",
   "metadata": {
    "tags": []
   },
   "source": [
    "#### 8 - What was the most popular job title that started in 2019?"
   ]
  },
  {
   "cell_type": "code",
   "execution_count": null,
   "id": "dfb918b6-4cc0-4ca6-a5c8-d65e1e1fff7f",
   "metadata": {
    "tags": []
   },
   "outputs": [],
   "source": [
    "util.get_most_popular_job_titles(df, 2019).show(1)"
   ]
  },
  {
   "cell_type": "markdown",
   "id": "90aa8059-fec8-417b-abdd-26d3e9d2f31d",
   "metadata": {},
   "source": [
    "#### 9 - How many people are currently working?"
   ]
  },
  {
   "cell_type": "code",
   "execution_count": null,
   "id": "516add17-d48f-4e1e-910d-3978b9539907",
   "metadata": {
    "tags": []
   },
   "outputs": [],
   "source": [
    "util.get_all_current_jobs(df) \\\n",
    "    .select(countDistinct('id').alias('count_of_current_people_working')) \\\n",
    "    .show()"
   ]
  },
  {
   "cell_type": "markdown",
   "id": "89e62fbe-da59-41f5-9c27-b9c1870bcdab",
   "metadata": {},
   "source": [
    "#### 10 - For each person, list only their latest job\n",
    "##### Display the first 10 results, ordered by lastName descending, firstName ascending order."
   ]
  },
  {
   "cell_type": "code",
   "execution_count": null,
   "id": "68113f30-b005-4ca9-919a-062d31680bf7",
   "metadata": {
    "tags": []
   },
   "outputs": [],
   "source": [
    "util.get_most_recent_jobs_by_profile(df) \\\n",
    "    .orderBy(desc('lastName'), asc('firstName')) \\\n",
    "    .limit(10) \\\n",
    "    .show()"
   ]
  },
  {
   "cell_type": "markdown",
   "id": "128d4eda-5113-4ab1-840e-1a4ac9a25a16",
   "metadata": {},
   "source": [
    "#### 11 - For each person, list their highest paying job along with their first name, last name, salary and the year they made this salary\n",
    "##### Store the results in a dataframe, and then print out 10 results"
   ]
  },
  {
   "cell_type": "code",
   "execution_count": null,
   "id": "9a523e6a-4369-4549-8c7a-8f605b3f7e58",
   "metadata": {
    "tags": []
   },
   "outputs": [],
   "source": [
    "util.get_highest_paying_job_by_profile(df) \\\n",
    "    .show(truncate=False)"
   ]
  },
  {
   "cell_type": "markdown",
   "id": "e820343f-adfe-4760-aeec-f0d91d309c37",
   "metadata": {},
   "source": [
    "#### 12 - Write out the last result (question 11) in parquet format, compressed, partitioned by the year of their highest paying job"
   ]
  },
  {
   "cell_type": "code",
   "execution_count": null,
   "id": "edde5d74-725e-4c10-92a1-2e052e4311a0",
   "metadata": {
    "tags": []
   },
   "outputs": [],
   "source": [
    "df_result.write.partitionBy('year') \\\n",
    "    .parquet('output_data/', compression='gzip', mode='overwrite')"
   ]
  },
  {
   "cell_type": "code",
   "execution_count": null,
   "id": "f21a53ab-9300-4f7a-88f1-8392b33b8050",
   "metadata": {},
   "outputs": [],
   "source": []
  }
 ],
 "metadata": {
  "kernelspec": {
   "display_name": "Python 3 (ipykernel)",
   "language": "python",
   "name": "python3"
  },
  "language_info": {
   "codemirror_mode": {
    "name": "ipython",
    "version": 3
   },
   "file_extension": ".py",
   "mimetype": "text/x-python",
   "name": "python",
   "nbconvert_exporter": "python",
   "pygments_lexer": "ipython3",
   "version": "3.10.10"
  }
 },
 "nbformat": 4,
 "nbformat_minor": 5
}
