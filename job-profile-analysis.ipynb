{
 "cells": [
  {
   "cell_type": "markdown",
   "id": "ca334a6b-709c-4207-b4b6-ac58d68331a7",
   "metadata": {},
   "source": [
    "#### 1 - Please load the dataset into a Spark dataframe"
   ]
  },
  {
   "cell_type": "code",
   "execution_count": 21,
   "id": "1f86ffd1-e7f7-43c7-9a30-27f8539d17e8",
   "metadata": {
    "tags": []
   },
   "outputs": [
    {
     "name": "stderr",
     "output_type": "stream",
     "text": [
      "ERROR:root:KeyboardInterrupt while sending command.\n",
      "Traceback (most recent call last):\n",
      "  File \"/usr/local/spark/python/lib/py4j-0.10.9.7-src.zip/py4j/java_gateway.py\", line 1038, in send_command\n",
      "    response = connection.send_command(command)\n",
      "  File \"/usr/local/spark/python/lib/py4j-0.10.9.7-src.zip/py4j/clientserver.py\", line 511, in send_command\n",
      "    answer = smart_decode(self.stream.readline()[:-1])\n",
      "  File \"/opt/conda/lib/python3.10/socket.py\", line 705, in readinto\n",
      "    return self._sock.recv_into(b)\n",
      "KeyboardInterrupt\n"
     ]
    },
    {
     "ename": "KeyboardInterrupt",
     "evalue": "",
     "output_type": "error",
     "traceback": [
      "\u001b[0;31m---------------------------------------------------------------------------\u001b[0m",
      "\u001b[0;31mKeyboardInterrupt\u001b[0m                         Traceback (most recent call last)",
      "Cell \u001b[0;32mIn[21], line 8\u001b[0m\n\u001b[1;32m      4\u001b[0m \u001b[38;5;28;01mimport\u001b[39;00m \u001b[38;5;21;01mutil\u001b[39;00m\n\u001b[1;32m      6\u001b[0m spark \u001b[38;5;241m=\u001b[39m SparkSession\u001b[38;5;241m.\u001b[39mbuilder\u001b[38;5;241m.\u001b[39mappName(\u001b[38;5;124m\"\u001b[39m\u001b[38;5;124mjob-profile-analysis\u001b[39m\u001b[38;5;124m\"\u001b[39m)\u001b[38;5;241m.\u001b[39mgetOrCreate()\n\u001b[0;32m----> 8\u001b[0m df \u001b[38;5;241m=\u001b[39m \u001b[43mspark\u001b[49m\u001b[38;5;241;43m.\u001b[39;49m\u001b[43mread\u001b[49m\u001b[38;5;241;43m.\u001b[39;49m\u001b[43moption\u001b[49m\u001b[43m(\u001b[49m\u001b[38;5;124;43m\"\u001b[39;49m\u001b[38;5;124;43minferSchema\u001b[39;49m\u001b[38;5;124;43m\"\u001b[39;49m\u001b[43m,\u001b[49m\u001b[43m \u001b[49m\u001b[38;5;124;43m\"\u001b[39;49m\u001b[38;5;124;43mtrue\u001b[39;49m\u001b[38;5;124;43m\"\u001b[39;49m\u001b[43m)\u001b[49m\u001b[38;5;241;43m.\u001b[39;49m\u001b[43mjson\u001b[49m\u001b[43m(\u001b[49m\u001b[38;5;124;43m\"\u001b[39;49m\u001b[38;5;124;43mtest_data/*.json\u001b[39;49m\u001b[38;5;124;43m\"\u001b[39;49m\u001b[43m)\u001b[49m\n\u001b[1;32m     10\u001b[0m \u001b[38;5;66;03m# flatten the df to make analysis easier\u001b[39;00m\n\u001b[1;32m     11\u001b[0m df \u001b[38;5;241m=\u001b[39m util\u001b[38;5;241m.\u001b[39mget_flattened_job_profile_data(df)\n",
      "File \u001b[0;32m/usr/local/spark/python/pyspark/sql/readwriter.py:418\u001b[0m, in \u001b[0;36mDataFrameReader.json\u001b[0;34m(self, path, schema, primitivesAsString, prefersDecimal, allowComments, allowUnquotedFieldNames, allowSingleQuotes, allowNumericLeadingZero, allowBackslashEscapingAnyCharacter, mode, columnNameOfCorruptRecord, dateFormat, timestampFormat, multiLine, allowUnquotedControlChars, lineSep, samplingRatio, dropFieldIfAllNull, encoding, locale, pathGlobFilter, recursiveFileLookup, modifiedBefore, modifiedAfter, allowNonNumericNumbers)\u001b[0m\n\u001b[1;32m    416\u001b[0m \u001b[38;5;28;01mif\u001b[39;00m \u001b[38;5;28mtype\u001b[39m(path) \u001b[38;5;241m==\u001b[39m \u001b[38;5;28mlist\u001b[39m:\n\u001b[1;32m    417\u001b[0m     \u001b[38;5;28;01massert\u001b[39;00m \u001b[38;5;28mself\u001b[39m\u001b[38;5;241m.\u001b[39m_spark\u001b[38;5;241m.\u001b[39m_sc\u001b[38;5;241m.\u001b[39m_jvm \u001b[38;5;129;01mis\u001b[39;00m \u001b[38;5;129;01mnot\u001b[39;00m \u001b[38;5;28;01mNone\u001b[39;00m\n\u001b[0;32m--> 418\u001b[0m     \u001b[38;5;28;01mreturn\u001b[39;00m \u001b[38;5;28mself\u001b[39m\u001b[38;5;241m.\u001b[39m_df(\u001b[38;5;28;43mself\u001b[39;49m\u001b[38;5;241;43m.\u001b[39;49m\u001b[43m_jreader\u001b[49m\u001b[38;5;241;43m.\u001b[39;49m\u001b[43mjson\u001b[49m\u001b[43m(\u001b[49m\u001b[38;5;28;43mself\u001b[39;49m\u001b[38;5;241;43m.\u001b[39;49m\u001b[43m_spark\u001b[49m\u001b[38;5;241;43m.\u001b[39;49m\u001b[43m_sc\u001b[49m\u001b[38;5;241;43m.\u001b[39;49m\u001b[43m_jvm\u001b[49m\u001b[38;5;241;43m.\u001b[39;49m\u001b[43mPythonUtils\u001b[49m\u001b[38;5;241;43m.\u001b[39;49m\u001b[43mtoSeq\u001b[49m\u001b[43m(\u001b[49m\u001b[43mpath\u001b[49m\u001b[43m)\u001b[49m\u001b[43m)\u001b[49m)\n\u001b[1;32m    419\u001b[0m \u001b[38;5;28;01melif\u001b[39;00m \u001b[38;5;28misinstance\u001b[39m(path, RDD):\n\u001b[1;32m    421\u001b[0m     \u001b[38;5;28;01mdef\u001b[39;00m \u001b[38;5;21mfunc\u001b[39m(iterator: Iterable) \u001b[38;5;241m-\u001b[39m\u001b[38;5;241m>\u001b[39m Iterable:\n",
      "File \u001b[0;32m/usr/local/spark/python/lib/py4j-0.10.9.7-src.zip/py4j/java_gateway.py:1321\u001b[0m, in \u001b[0;36mJavaMember.__call__\u001b[0;34m(self, *args)\u001b[0m\n\u001b[1;32m   1314\u001b[0m args_command, temp_args \u001b[38;5;241m=\u001b[39m \u001b[38;5;28mself\u001b[39m\u001b[38;5;241m.\u001b[39m_build_args(\u001b[38;5;241m*\u001b[39margs)\n\u001b[1;32m   1316\u001b[0m command \u001b[38;5;241m=\u001b[39m proto\u001b[38;5;241m.\u001b[39mCALL_COMMAND_NAME \u001b[38;5;241m+\u001b[39m\\\n\u001b[1;32m   1317\u001b[0m     \u001b[38;5;28mself\u001b[39m\u001b[38;5;241m.\u001b[39mcommand_header \u001b[38;5;241m+\u001b[39m\\\n\u001b[1;32m   1318\u001b[0m     args_command \u001b[38;5;241m+\u001b[39m\\\n\u001b[1;32m   1319\u001b[0m     proto\u001b[38;5;241m.\u001b[39mEND_COMMAND_PART\n\u001b[0;32m-> 1321\u001b[0m answer \u001b[38;5;241m=\u001b[39m \u001b[38;5;28;43mself\u001b[39;49m\u001b[38;5;241;43m.\u001b[39;49m\u001b[43mgateway_client\u001b[49m\u001b[38;5;241;43m.\u001b[39;49m\u001b[43msend_command\u001b[49m\u001b[43m(\u001b[49m\u001b[43mcommand\u001b[49m\u001b[43m)\u001b[49m\n\u001b[1;32m   1322\u001b[0m return_value \u001b[38;5;241m=\u001b[39m get_return_value(\n\u001b[1;32m   1323\u001b[0m     answer, \u001b[38;5;28mself\u001b[39m\u001b[38;5;241m.\u001b[39mgateway_client, \u001b[38;5;28mself\u001b[39m\u001b[38;5;241m.\u001b[39mtarget_id, \u001b[38;5;28mself\u001b[39m\u001b[38;5;241m.\u001b[39mname)\n\u001b[1;32m   1325\u001b[0m \u001b[38;5;28;01mfor\u001b[39;00m temp_arg \u001b[38;5;129;01min\u001b[39;00m temp_args:\n",
      "File \u001b[0;32m/usr/local/spark/python/lib/py4j-0.10.9.7-src.zip/py4j/java_gateway.py:1038\u001b[0m, in \u001b[0;36mGatewayClient.send_command\u001b[0;34m(self, command, retry, binary)\u001b[0m\n\u001b[1;32m   1036\u001b[0m connection \u001b[38;5;241m=\u001b[39m \u001b[38;5;28mself\u001b[39m\u001b[38;5;241m.\u001b[39m_get_connection()\n\u001b[1;32m   1037\u001b[0m \u001b[38;5;28;01mtry\u001b[39;00m:\n\u001b[0;32m-> 1038\u001b[0m     response \u001b[38;5;241m=\u001b[39m \u001b[43mconnection\u001b[49m\u001b[38;5;241;43m.\u001b[39;49m\u001b[43msend_command\u001b[49m\u001b[43m(\u001b[49m\u001b[43mcommand\u001b[49m\u001b[43m)\u001b[49m\n\u001b[1;32m   1039\u001b[0m     \u001b[38;5;28;01mif\u001b[39;00m binary:\n\u001b[1;32m   1040\u001b[0m         \u001b[38;5;28;01mreturn\u001b[39;00m response, \u001b[38;5;28mself\u001b[39m\u001b[38;5;241m.\u001b[39m_create_connection_guard(connection)\n",
      "File \u001b[0;32m/usr/local/spark/python/lib/py4j-0.10.9.7-src.zip/py4j/clientserver.py:511\u001b[0m, in \u001b[0;36mClientServerConnection.send_command\u001b[0;34m(self, command)\u001b[0m\n\u001b[1;32m    509\u001b[0m \u001b[38;5;28;01mtry\u001b[39;00m:\n\u001b[1;32m    510\u001b[0m     \u001b[38;5;28;01mwhile\u001b[39;00m \u001b[38;5;28;01mTrue\u001b[39;00m:\n\u001b[0;32m--> 511\u001b[0m         answer \u001b[38;5;241m=\u001b[39m smart_decode(\u001b[38;5;28;43mself\u001b[39;49m\u001b[38;5;241;43m.\u001b[39;49m\u001b[43mstream\u001b[49m\u001b[38;5;241;43m.\u001b[39;49m\u001b[43mreadline\u001b[49m\u001b[43m(\u001b[49m\u001b[43m)\u001b[49m[:\u001b[38;5;241m-\u001b[39m\u001b[38;5;241m1\u001b[39m])\n\u001b[1;32m    512\u001b[0m         logger\u001b[38;5;241m.\u001b[39mdebug(\u001b[38;5;124m\"\u001b[39m\u001b[38;5;124mAnswer received: \u001b[39m\u001b[38;5;132;01m{0}\u001b[39;00m\u001b[38;5;124m\"\u001b[39m\u001b[38;5;241m.\u001b[39mformat(answer))\n\u001b[1;32m    513\u001b[0m         \u001b[38;5;66;03m# Happens when a the other end is dead. There might be an empty\u001b[39;00m\n\u001b[1;32m    514\u001b[0m         \u001b[38;5;66;03m# answer before the socket raises an error.\u001b[39;00m\n",
      "File \u001b[0;32m/opt/conda/lib/python3.10/socket.py:705\u001b[0m, in \u001b[0;36mSocketIO.readinto\u001b[0;34m(self, b)\u001b[0m\n\u001b[1;32m    703\u001b[0m \u001b[38;5;28;01mwhile\u001b[39;00m \u001b[38;5;28;01mTrue\u001b[39;00m:\n\u001b[1;32m    704\u001b[0m     \u001b[38;5;28;01mtry\u001b[39;00m:\n\u001b[0;32m--> 705\u001b[0m         \u001b[38;5;28;01mreturn\u001b[39;00m \u001b[38;5;28;43mself\u001b[39;49m\u001b[38;5;241;43m.\u001b[39;49m\u001b[43m_sock\u001b[49m\u001b[38;5;241;43m.\u001b[39;49m\u001b[43mrecv_into\u001b[49m\u001b[43m(\u001b[49m\u001b[43mb\u001b[49m\u001b[43m)\u001b[49m\n\u001b[1;32m    706\u001b[0m     \u001b[38;5;28;01mexcept\u001b[39;00m timeout:\n\u001b[1;32m    707\u001b[0m         \u001b[38;5;28mself\u001b[39m\u001b[38;5;241m.\u001b[39m_timeout_occurred \u001b[38;5;241m=\u001b[39m \u001b[38;5;28;01mTrue\u001b[39;00m\n",
      "\u001b[0;31mKeyboardInterrupt\u001b[0m: "
     ]
    }
   ],
   "source": [
    "from pyspark.sql import SparkSession\n",
    "from pyspark.sql.functions import explode, asc, desc\n",
    "from modules.common import get_flattened_job_profile_data\n",
    "\n",
    "spark = SparkSession.builder.appName(\"job-profile-analysis\").getOrCreate()\n",
    "\n",
    "df = spark.read.option(\"inferSchema\", \"true\").json(\"test_data/*.json\")\n",
    "\n",
    "# flatten the df to make analysis easier\n",
    "df = get_flattened_job_profile_data(df)\n",
    "\n",
    "df.show(10)"
   ]
  },
  {
   "cell_type": "markdown",
   "id": "cf81ced1-b9d2-4c91-a885-cc2107824d31",
   "metadata": {
    "tags": []
   },
   "source": [
    "#### 2 - Print the schema"
   ]
  },
  {
   "cell_type": "code",
   "execution_count": 2,
   "id": "e5182a91-7d7e-4d2c-b7f7-e3b259dcae29",
   "metadata": {
    "tags": []
   },
   "outputs": [
    {
     "name": "stdout",
     "output_type": "stream",
     "text": [
      "root\n",
      " |-- id: string (nullable = true)\n",
      " |-- firstName: string (nullable = true)\n",
      " |-- lastName: string (nullable = true)\n",
      " |-- jobDetail: struct (nullable = true)\n",
      " |    |-- fromDate: string (nullable = true)\n",
      " |    |-- location: string (nullable = true)\n",
      " |    |-- salary: long (nullable = true)\n",
      " |    |-- title: string (nullable = true)\n",
      " |    |-- toDate: string (nullable = true)\n",
      "\n"
     ]
    }
   ],
   "source": [
    "df.printSchema()"
   ]
  },
  {
   "cell_type": "markdown",
   "id": "ee875079-69b4-4b6a-a60c-f366addd525b",
   "metadata": {},
   "source": [
    "#### 3 - How many records are there in the dataset?"
   ]
  },
  {
   "cell_type": "code",
   "execution_count": 3,
   "id": "83042bae-4388-4bd9-b461-8c54e7d202d6",
   "metadata": {
    "tags": []
   },
   "outputs": [
    {
     "data": {
      "text/plain": [
       "77135383"
      ]
     },
     "execution_count": 3,
     "metadata": {},
     "output_type": "execute_result"
    }
   ],
   "source": [
    "df.count()"
   ]
  },
  {
   "cell_type": "markdown",
   "id": "2422f018-893a-4fa3-8670-14da69355cf8",
   "metadata": {
    "tags": []
   },
   "source": [
    "#### 4 - What is the average salary for each profile?\n",
    "##### Display the first 10 results, ordered by lastName in descending order"
   ]
  },
  {
   "cell_type": "code",
   "execution_count": 3,
   "id": "db99c7ec-ebdd-47f6-95af-5c7cc4451a9e",
   "metadata": {
    "tags": []
   },
   "outputs": [
    {
     "name": "stdout",
     "output_type": "stream",
     "text": [
      "+--------------------+---------+--------+---------+\n",
      "|                  id|firstName|lastName|avgSalary|\n",
      "+--------------------+---------+--------+---------+\n",
      "|3c035b6e-8483-49a...|   George|Kastanza| 149000.0|\n",
      "|3c035b6e-8483-49a...|      Joe| Johnson| 149000.0|\n",
      "|3c035b6e-8483-49a...|     Bob2|   Barry| 139000.0|\n",
      "|3c035b6e-8483-49a...|     Bob4|   Barry| 139000.0|\n",
      "|3c035b6e-8483-49a...|     Bob3|   Barry| 139000.0|\n",
      "|3c035b6e-8483-49a...|     Bob6|   Barry| 139000.0|\n",
      "|3c035b6e-8483-49a...|   Andrea|Berryman| 139000.0|\n",
      "|3c035b6e-8483-49a...|     Bob8|   Barry| 139000.0|\n",
      "|3c035b6e-8483-49a...|     Bob1|   Barry| 139000.0|\n",
      "|3c035b6e-8483-49a...|     Bob5|   Barry| 139000.0|\n",
      "+--------------------+---------+--------+---------+\n",
      "\n"
     ]
    }
   ],
   "source": [
    "from modules.dataframes_by_profile import get_average_salaries_by_profile\n",
    "\n",
    "get_average_salaries_by_profile(df) \\\n",
    "    .orderBy(desc('avgSalary')) \\\n",
    "    .limit(10) \\\n",
    "    .show()"
   ]
  },
  {
   "cell_type": "markdown",
   "id": "94fdeea6-cc06-447f-a743-67e8d020bdb6",
   "metadata": {},
   "source": [
    "#### 5 - What is the average salary across the whole dataset?"
   ]
  },
  {
   "cell_type": "code",
   "execution_count": 4,
   "id": "40e84c4e-290f-4841-85c3-7ce43c436c78",
   "metadata": {
    "tags": []
   },
   "outputs": [
    {
     "name": "stdout",
     "output_type": "stream",
     "text": [
      "+---------+\n",
      "|avgSalary|\n",
      "+---------+\n",
      "|109880.95|\n",
      "+---------+\n",
      "\n"
     ]
    }
   ],
   "source": [
    "from modules.dataframes_by_profile import get_average_salary_for_all_profiles\n",
    "\n",
    "get_average_salary_for_all_profiles(df).show()"
   ]
  },
  {
   "cell_type": "markdown",
   "id": "87d18057-98c6-4fad-b2a2-427f2c531794",
   "metadata": {},
   "source": [
    "#### 6 - On average, what are the top 5 paying jobs? Bottom 5 paying jobs?\n",
    "##### If there is a tie, please order by title, ~~location~~."
   ]
  },
  {
   "cell_type": "code",
   "execution_count": 6,
   "id": "b864d044-84ee-4f8e-a3d0-0b13a7a6c6b7",
   "metadata": {
    "tags": []
   },
   "outputs": [
    {
     "name": "stdout",
     "output_type": "stream",
     "text": [
      "Top 5 paying jobs\n",
      "+---------------+---------+\n",
      "|       jobTitle|avgSalary|\n",
      "+---------------+---------+\n",
      "|        actuary| 164000.0|\n",
      "|devops engineer| 154000.0|\n",
      "|doctor engineer| 144000.0|\n",
      "|   new engineer| 144000.0|\n",
      "|   old engineer| 144000.0|\n",
      "+---------------+---------+\n",
      "\n",
      "Bottom 5 paying jobs\n",
      "+--------------------+---------+\n",
      "|            jobTitle|avgSalary|\n",
      "+--------------------+---------+\n",
      "|     support analyst|  42000.0|\n",
      "|           evaluator|  44000.0|\n",
      "|  service technician|  51000.0|\n",
      "|          technician|  54000.0|\n",
      "|corporate consultant|  60000.0|\n",
      "+--------------------+---------+\n",
      "\n"
     ]
    }
   ],
   "source": [
    "from modules.dataframes_by_title import get_average_salaries_by_job_title\n",
    "\n",
    "result = get_average_salaries_by_job_title(df)\n",
    "\n",
    "print('Top 5 paying jobs')\n",
    "result.orderBy(desc('avgSalary'), 'jobTitle').limit(5).show()\n",
    "\n",
    "print('Bottom 5 paying jobs')\n",
    "result.orderBy(asc('avgSalary'), 'jobTitle').limit(5).show()"
   ]
  },
  {
   "cell_type": "markdown",
   "id": "fa3055fd-ff9f-47af-bd3f-1d3ba1ce38fe",
   "metadata": {
    "tags": []
   },
   "source": [
    "#### 7 - Who is currently making the most money?\n",
    "##### If there is a tie, please order in lastName descending, fromDate descending."
   ]
  },
  {
   "cell_type": "code",
   "execution_count": 9,
   "id": "aa09afd7-fc46-48fb-b9a1-4a31b15cfbdb",
   "metadata": {
    "tags": []
   },
   "outputs": [
    {
     "name": "stdout",
     "output_type": "stream",
     "text": [
      "+--------------------+---------+--------+-------------+\n",
      "|                  id|firstName|lastName|currentSalary|\n",
      "+--------------------+---------+--------+-------------+\n",
      "|3c035b6e-8483-49a...|   George|Kastanza|       164000|\n",
      "|3c035b6e-8483-49a...|      Joe| Johnson|       164000|\n",
      "+--------------------+---------+--------+-------------+\n",
      "\n"
     ]
    }
   ],
   "source": [
    "from modules.common import get_max_rows_for_column\n",
    "from modules.dataframes_by_profile import get_current_salaries_by_profile\n",
    "\n",
    "result = get_current_salaries_by_profile(df)\n",
    "result = get_max_rows_for_column(result, 'currentSalary')\n",
    "result.show()"
   ]
  },
  {
   "cell_type": "markdown",
   "id": "7029ae35-0682-4a31-9df7-23ba1c0ab2a5",
   "metadata": {
    "tags": []
   },
   "source": [
    "#### 8 - What was the most popular job title that started in 2019?"
   ]
  },
  {
   "cell_type": "code",
   "execution_count": 11,
   "id": "dfb918b6-4cc0-4ca6-a5c8-d65e1e1fff7f",
   "metadata": {
    "tags": []
   },
   "outputs": [
    {
     "name": "stdout",
     "output_type": "stream",
     "text": [
      "+---------------+-------------+----------+\n",
      "|          title|firstSeenDate|occurrence|\n",
      "+---------------+-------------+----------+\n",
      "|prompt engineer|   2019-04-23|         2|\n",
      "+---------------+-------------+----------+\n",
      "only showing top 1 row\n",
      "\n"
     ]
    }
   ],
   "source": [
    "from modules.dataframes_by_title import get_most_popular_job_titles\n",
    "\n",
    "get_most_popular_job_titles(df, 2019).show(1)"
   ]
  },
  {
   "cell_type": "markdown",
   "id": "90aa8059-fec8-417b-abdd-26d3e9d2f31d",
   "metadata": {},
   "source": [
    "#### 9 - How many people are currently working?"
   ]
  },
  {
   "cell_type": "code",
   "execution_count": 12,
   "id": "516add17-d48f-4e1e-910d-3978b9539907",
   "metadata": {
    "tags": []
   },
   "outputs": [
    {
     "name": "stdout",
     "output_type": "stream",
     "text": [
      "+-------------------------------+\n",
      "|count_of_current_people_working|\n",
      "+-------------------------------+\n",
      "|                             11|\n",
      "+-------------------------------+\n",
      "\n"
     ]
    }
   ],
   "source": [
    "from pyspark.sql.functions import countDistinct\n",
    "from modules.common import get_all_current_jobs\n",
    "\n",
    "get_all_current_jobs(df) \\\n",
    "    .select(countDistinct('id').alias('count_of_current_people_working')) \\\n",
    "    .show()"
   ]
  },
  {
   "cell_type": "markdown",
   "id": "89e62fbe-da59-41f5-9c27-b9c1870bcdab",
   "metadata": {},
   "source": [
    "#### 10 - For each person, list only their latest job\n",
    "##### Display the first 10 results, ordered by lastName descending, firstName ascending order."
   ]
  },
  {
   "cell_type": "code",
   "execution_count": 13,
   "id": "68113f30-b005-4ca9-919a-062d31680bf7",
   "metadata": {
    "tags": []
   },
   "outputs": [
    {
     "name": "stdout",
     "output_type": "stream",
     "text": [
      "+--------------------+---------+--------+--------------------+\n",
      "|                  id|firstName|lastName|           jobDetail|\n",
      "+--------------------+---------+--------+--------------------+\n",
      "|da313df5-9613-450...|   Daniel|  Pierce|{2016-09-08, Pert...|\n",
      "|3c035b6e-8483-49a...|   George|Kastanza|{2014-09-23, Melb...|\n",
      "|3c035b6e-8483-49a...|      Joe| Johnson|{2014-09-23, Melb...|\n",
      "|2238d6ef-ff70-4d5...|    Louis|  Hanson|{2015-03-10, Sydn...|\n",
      "|3c035b6e-8483-49a...|   Andrea|Berryman|{2014-09-23, Melb...|\n",
      "|11214286-41bb-4d0...|    Olive|    Bays|{2013-06-02, Pert...|\n",
      "|3c035b6e-8483-49a...|     Bob1|   Barry|{2018-09-23, Melb...|\n",
      "|3c035b6e-8483-49a...|     Bob2|   Barry|{2019-09-23, Melb...|\n",
      "|3c035b6e-8483-49a...|     Bob3|   Barry|{2019-09-30, Melb...|\n",
      "|3c035b6e-8483-49a...|     Bob4|   Barry|{2019-11-30, Melb...|\n",
      "+--------------------+---------+--------+--------------------+\n",
      "\n"
     ]
    }
   ],
   "source": [
    "from modules.dataframes_by_profile import get_most_recent_jobs_by_profile\n",
    "\n",
    "get_most_recent_jobs_by_profile(df) \\\n",
    "    .orderBy(desc('lastName'), asc('firstName')) \\\n",
    "    .limit(10) \\\n",
    "    .show()"
   ]
  },
  {
   "cell_type": "markdown",
   "id": "128d4eda-5113-4ab1-840e-1a4ac9a25a16",
   "metadata": {},
   "source": [
    "#### 11 - For each person, list their highest paying job along with their first name, last name, salary and the year they made this salary\n",
    "##### Store the results in a dataframe, and then print out 10 results"
   ]
  },
  {
   "cell_type": "code",
   "execution_count": 18,
   "id": "9a523e6a-4369-4549-8c7a-8f605b3f7e58",
   "metadata": {
    "tags": []
   },
   "outputs": [
    {
     "name": "stdout",
     "output_type": "stream",
     "text": [
      "+------------------------------------+---------+--------+---------------------+----------------------+--------------------+\n",
      "|id                                  |firstName|lastName|highestPayingJobTitle|highestPayingJobSalary|highestPayingJobYear|\n",
      "+------------------------------------+---------+--------+---------------------+----------------------+--------------------+\n",
      "|11214286-41bb-4d09-9821-98a6d5c4d026|Olive    |Bays    |paralegal            |95000                 |2012                |\n",
      "|2238d6ef-ff70-4d50-9e93-39e95c6fded9|Louis    |Hanson  |principal            |61000                 |2015                |\n",
      "|3c035b6e-8483-49a5-92a1-131a6f256c17|Bob8     |Barry   |new engineer         |144000                |2020                |\n",
      "|3c035b6e-8483-49a5-92a1-131a6f256c18|Bob7     |Barry   |doctor engineer      |144000                |2019                |\n",
      "|3c035b6e-8483-49a5-92a1-131a6f256c19|Bob6     |Barry   |prompt engineer      |144000                |2019                |\n",
      "|3c035b6e-8483-49a5-92a1-131a6f256c20|Bob5     |Barry   |prompt engineer      |144000                |2019                |\n",
      "|3c035b6e-8483-49a5-92a1-131a6f256c21|Bob4     |Barry   |old engineer         |144000                |2019                |\n",
      "|3c035b6e-8483-49a5-92a1-131a6f256c22|Bob3     |Barry   |old engineer         |144000                |2019                |\n",
      "|3c035b6e-8483-49a5-92a1-131a6f256c42|Bob2     |Barry   |old engineer         |144000                |2019                |\n",
      "|3c035b6e-8483-49a5-92a1-131a6f256c56|Bob1     |Barry   |old engineer         |144000                |2018                |\n",
      "|3c035b6e-8483-49a5-92a1-131a6f256c91|Joe      |Johnson |devops engineer      |164000                |2014                |\n",
      "|3c035b6e-8483-49a5-92a1-131a6f256c92|George   |Kastanza|actuary              |164000                |2014                |\n",
      "|3c035b6e-8483-49a5-92a1-131a6f256c97|Andrea   |Berryman|devops engineer      |144000                |2014                |\n",
      "|da313df5-9613-450a-9e71-45118dc6384a|Daniel   |Pierce  |dentist              |103000                |2016                |\n",
      "+------------------------------------+---------+--------+---------------------+----------------------+--------------------+\n",
      "\n"
     ]
    }
   ],
   "source": [
    "from modules.dataframes_by_profile import get_highest_paying_job_by_profile\n",
    "\n",
    "df_result = get_highest_paying_job_by_profile(df)\n",
    "df_result.show(truncate=False)"
   ]
  },
  {
   "cell_type": "markdown",
   "id": "e820343f-adfe-4760-aeec-f0d91d309c37",
   "metadata": {},
   "source": [
    "#### 12 - Write out the last result (question 11) in parquet format, compressed, partitioned by the year of their highest paying job"
   ]
  },
  {
   "cell_type": "code",
   "execution_count": 20,
   "id": "edde5d74-725e-4c10-92a1-2e052e4311a0",
   "metadata": {
    "tags": []
   },
   "outputs": [],
   "source": [
    "df_result.write.partitionBy('highestPayingJobYear') \\\n",
    "    .parquet('output_data/', compression='gzip', mode='overwrite')"
   ]
  },
  {
   "cell_type": "code",
   "execution_count": null,
   "id": "f21a53ab-9300-4f7a-88f1-8392b33b8050",
   "metadata": {},
   "outputs": [],
   "source": []
  }
 ],
 "metadata": {
  "kernelspec": {
   "display_name": "Python 3 (ipykernel)",
   "language": "python",
   "name": "python3"
  },
  "language_info": {
   "codemirror_mode": {
    "name": "ipython",
    "version": 3
   },
   "file_extension": ".py",
   "mimetype": "text/x-python",
   "name": "python",
   "nbconvert_exporter": "python",
   "pygments_lexer": "ipython3",
   "version": "3.10.10"
  }
 },
 "nbformat": 4,
 "nbformat_minor": 5
}
