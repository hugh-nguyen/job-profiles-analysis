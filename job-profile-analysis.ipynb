{
 "cells": [
  {
   "cell_type": "markdown",
   "id": "ca334a6b-709c-4207-b4b6-ac58d68331a7",
   "metadata": {},
   "source": [
    "#### 1 - Please load the dataset into a Spark dataframe"
   ]
  },
  {
   "cell_type": "code",
   "execution_count": 2,
   "id": "1f86ffd1-e7f7-43c7-9a30-27f8539d17e8",
   "metadata": {
    "tags": []
   },
   "outputs": [
    {
     "name": "stdout",
     "output_type": "stream",
     "text": [
      "+--------------------+--------------------+\n",
      "|                  id|             profile|\n",
      "+--------------------+--------------------+\n",
      "|da313df5-9613-450...|{Daniel, [{2016-0...|\n",
      "|2238d6ef-ff70-4d5...|{Louis, [{2015-03...|\n",
      "|11214286-41bb-4d0...|{Olive, [{2013-06...|\n",
      "|3c035b6e-8483-49a...|{Joe, [{2014-09-2...|\n",
      "|3c035b6e-8483-49a...|{Andrea, [{2014-0...|\n",
      "|3c035b6e-8483-49a...|{George, [{2014-0...|\n",
      "|3c035b6e-8483-49a...|{Bob1, [{2018-09-...|\n",
      "|3c035b6e-8483-49a...|{Bob2, [{2019-09-...|\n",
      "|3c035b6e-8483-49a...|{Bob3, [{2019-09-...|\n",
      "|3c035b6e-8483-49a...|{Bob4, [{2019-11-...|\n",
      "|3c035b6e-8483-49a...|{Bob5, [{2019-09-...|\n",
      "|3c035b6e-8483-49a...|{Bob6, [{2019-04-...|\n",
      "|3c035b6e-8483-49a...|{Bob7, [{2019-06-...|\n",
      "|3c035b6e-8483-49a...|{Bob8, [{2020-09-...|\n",
      "+--------------------+--------------------+\n",
      "\n",
      "root\n",
      " |-- id: string (nullable = true)\n",
      " |-- profile: struct (nullable = true)\n",
      " |    |-- firstName: string (nullable = true)\n",
      " |    |-- jobHistory: array (nullable = true)\n",
      " |    |    |-- element: struct (containsNull = true)\n",
      " |    |    |    |-- fromDate: string (nullable = true)\n",
      " |    |    |    |-- location: string (nullable = true)\n",
      " |    |    |    |-- salary: long (nullable = true)\n",
      " |    |    |    |-- title: string (nullable = true)\n",
      " |    |    |    |-- toDate: string (nullable = true)\n",
      " |    |-- lastName: string (nullable = true)\n",
      "\n",
      "+--------------------+---------+--------+--------------------+\n",
      "|                  id|firstName|lastName|           jobDetail|\n",
      "+--------------------+---------+--------+--------------------+\n",
      "|da313df5-9613-450...|   Daniel|  Pierce|{2016-09-08, Pert...|\n",
      "|da313df5-9613-450...|   Daniel|  Pierce|{2012-12-26, Pert...|\n",
      "|da313df5-9613-450...|   Daniel|  Pierce|{2008-03-28, Pert...|\n",
      "|da313df5-9613-450...|   Daniel|  Pierce|{2003-09-13, Pert...|\n",
      "|da313df5-9613-450...|   Daniel|  Pierce|{2003-07-03, Pert...|\n",
      "|da313df5-9613-450...|   Daniel|  Pierce|{1998-05-19, Pert...|\n",
      "|2238d6ef-ff70-4d5...|    Louis|  Hanson|{2015-03-10, Sydn...|\n",
      "|2238d6ef-ff70-4d5...|    Louis|  Hanson|{2014-02-10, Sydn...|\n",
      "|2238d6ef-ff70-4d5...|    Louis|  Hanson|{2012-04-22, Sydn...|\n",
      "|2238d6ef-ff70-4d5...|    Louis|  Hanson|{2011-05-04, Sydn...|\n",
      "+--------------------+---------+--------+--------------------+\n",
      "only showing top 10 rows\n",
      "\n"
     ]
    }
   ],
   "source": [
    "from pyspark.sql import SparkSession\n",
    "from pyspark.sql.functions import explode, desc\n",
    "\n",
    "import util\n",
    "\n",
    "spark = SparkSession.builder.appName(\"example\").getOrCreate()\n",
    "\n",
    "df = spark.read.option(\"inferSchema\", \"true\").json(\"test_small/*.json\")\n",
    "\n",
    "# flatten the df to make analysis easier\n",
    "df = util.get_flattened_job_profile_data(df)\n",
    "\n",
    "df.show(10)"
   ]
  },
  {
   "cell_type": "markdown",
   "id": "cf81ced1-b9d2-4c91-a885-cc2107824d31",
   "metadata": {
    "tags": []
   },
   "source": [
    "#### 2 - Print the schema"
   ]
  },
  {
   "cell_type": "code",
   "execution_count": 2,
   "id": "e5182a91-7d7e-4d2c-b7f7-e3b259dcae29",
   "metadata": {
    "tags": []
   },
   "outputs": [
    {
     "name": "stdout",
     "output_type": "stream",
     "text": [
      "root\n",
      " |-- id: string (nullable = true)\n",
      " |-- firstName: string (nullable = true)\n",
      " |-- lastName: string (nullable = true)\n",
      " |-- jobDetail: struct (nullable = true)\n",
      " |    |-- fromDate: string (nullable = true)\n",
      " |    |-- location: string (nullable = true)\n",
      " |    |-- salary: long (nullable = true)\n",
      " |    |-- title: string (nullable = true)\n",
      " |    |-- toDate: string (nullable = true)\n",
      "\n"
     ]
    }
   ],
   "source": [
    "df.printSchema()"
   ]
  },
  {
   "cell_type": "markdown",
   "id": "ee875079-69b4-4b6a-a60c-f366addd525b",
   "metadata": {},
   "source": [
    "#### 3 - How many records are there in the dataset?"
   ]
  },
  {
   "cell_type": "code",
   "execution_count": 3,
   "id": "83042bae-4388-4bd9-b461-8c54e7d202d6",
   "metadata": {
    "tags": []
   },
   "outputs": [
    {
     "data": {
      "text/plain": [
       "42"
      ]
     },
     "execution_count": 3,
     "metadata": {},
     "output_type": "execute_result"
    }
   ],
   "source": [
    "df.count()"
   ]
  },
  {
   "cell_type": "markdown",
   "id": "2422f018-893a-4fa3-8670-14da69355cf8",
   "metadata": {
    "tags": []
   },
   "source": [
    "#### 4 - What is the average salary for each profile?\n",
    "##### Display the first 10 results, ordered by lastName in descending order"
   ]
  },
  {
   "cell_type": "code",
   "execution_count": 4,
   "id": "db99c7ec-ebdd-47f6-95af-5c7cc4451a9e",
   "metadata": {
    "tags": []
   },
   "outputs": [
    {
     "name": "stdout",
     "output_type": "stream",
     "text": [
      "+--------------------+---------+--------+---------+\n",
      "|                  id|firstName|lastName|avgSalary|\n",
      "+--------------------+---------+--------+---------+\n",
      "|3c035b6e-8483-49a...|   George|Kastanza| 149000.0|\n",
      "|3c035b6e-8483-49a...|      Joe| Johnson| 149000.0|\n",
      "|3c035b6e-8483-49a...|     Bob2|   Barry| 139000.0|\n",
      "|3c035b6e-8483-49a...|     Bob4|   Barry| 139000.0|\n",
      "|3c035b6e-8483-49a...|     Bob3|   Barry| 139000.0|\n",
      "|3c035b6e-8483-49a...|     Bob6|   Barry| 139000.0|\n",
      "|3c035b6e-8483-49a...|   Andrea|Berryman| 139000.0|\n",
      "|3c035b6e-8483-49a...|     Bob8|   Barry| 139000.0|\n",
      "|3c035b6e-8483-49a...|     Bob1|   Barry| 139000.0|\n",
      "|3c035b6e-8483-49a...|     Bob5|   Barry| 139000.0|\n",
      "+--------------------+---------+--------+---------+\n",
      "\n"
     ]
    }
   ],
   "source": [
    "util.get_average_salaries_by_profile(df) \\\n",
    "    .orderBy(desc('avgSalary')) \\\n",
    "    .limit(10) \\\n",
    "    .show()"
   ]
  },
  {
   "cell_type": "markdown",
   "id": "94fdeea6-cc06-447f-a743-67e8d020bdb6",
   "metadata": {},
   "source": [
    "#### 5 - What is the average salary across the whole dataset?"
   ]
  },
  {
   "cell_type": "code",
   "execution_count": 5,
   "id": "40e84c4e-290f-4841-85c3-7ce43c436c78",
   "metadata": {
    "tags": []
   },
   "outputs": [
    {
     "name": "stdout",
     "output_type": "stream",
     "text": [
      "+------------------+\n",
      "|         avgSalary|\n",
      "+------------------+\n",
      "|109880.95238095238|\n",
      "+------------------+\n",
      "\n"
     ]
    }
   ],
   "source": [
    "util.get_average_salary_for_all_profiles(df).show()"
   ]
  },
  {
   "cell_type": "markdown",
   "id": "87d18057-98c6-4fad-b2a2-427f2c531794",
   "metadata": {},
   "source": [
    "#### 6 - On average, what are the top 5 paying jobs? Bottom 5 paying jobs?\n",
    "##### If there is a tie, please order by title, ~~location~~."
   ]
  },
  {
   "cell_type": "code",
   "execution_count": 8,
   "id": "b864d044-84ee-4f8e-a3d0-0b13a7a6c6b7",
   "metadata": {
    "tags": []
   },
   "outputs": [
    {
     "name": "stdout",
     "output_type": "stream",
     "text": [
      "Top 5 paying jobs\n",
      "+---------------+----------+\n",
      "|       jobTitle|avg_salary|\n",
      "+---------------+----------+\n",
      "|        actuary|  164000.0|\n",
      "|devops engineer|  154000.0|\n",
      "|doctor engineer|  144000.0|\n",
      "|   new engineer|  144000.0|\n",
      "|   old engineer|  144000.0|\n",
      "+---------------+----------+\n",
      "\n",
      "Bottom 5 paying jobs\n",
      "+--------------------+----------+\n",
      "|            jobTitle|avg_salary|\n",
      "+--------------------+----------+\n",
      "|     support analyst|   42000.0|\n",
      "|           evaluator|   44000.0|\n",
      "|  service technician|   51000.0|\n",
      "|          technician|   54000.0|\n",
      "|corporate consultant|   60000.0|\n",
      "+--------------------+----------+\n",
      "\n"
     ]
    }
   ],
   "source": [
    "print('Top 5 paying jobs')\n",
    "util.get_average_salaries_by_job_title(df) \\\n",
    "    .orderBy(desc('avg_salary'), 'jobTitle') \\\n",
    "    .limit(5) \\\n",
    "    .show()\n",
    "\n",
    "print('Bottom 5 paying jobs')\n",
    "util.get_average_salaries_by_job_title(df) \\\n",
    "    .orderBy('avg_salary', 'jobTitle') \\\n",
    "    .limit(5) \\\n",
    "    .show()"
   ]
  },
  {
   "cell_type": "markdown",
   "id": "fa3055fd-ff9f-47af-bd3f-1d3ba1ce38fe",
   "metadata": {
    "tags": []
   },
   "source": [
    "#### 7 - Who is currently making the most money?\n",
    "##### If there is a tie, please order in lastName descending, fromDate descending."
   ]
  },
  {
   "cell_type": "code",
   "execution_count": null,
   "id": "aa09afd7-fc46-48fb-b9a1-4a31b15cfbdb",
   "metadata": {
    "tags": []
   },
   "outputs": [],
   "source": [
    "result = util.get_current_salaries_by_profile(df)\n",
    "result = util.get_max_rows_for_column(result, 'currentSalary')\n",
    "result.show()"
   ]
  },
  {
   "cell_type": "markdown",
   "id": "7029ae35-0682-4a31-9df7-23ba1c0ab2a5",
   "metadata": {
    "tags": []
   },
   "source": [
    "#### 8 - What was the most popular job title that started in 2019?"
   ]
  },
  {
   "cell_type": "code",
   "execution_count": null,
   "id": "dfb918b6-4cc0-4ca6-a5c8-d65e1e1fff7f",
   "metadata": {
    "tags": []
   },
   "outputs": [],
   "source": [
    "from pyspark.sql.functions import min, year, count\n",
    "df_flattened = df_small.select(\n",
    "    'id',\n",
    "    'profile.firstName',\n",
    "    'profile.lastName', explode('profile.jobHistory').alias('jobDetail')\n",
    ")\n",
    "\n",
    "titles_started_in_2019 = df_flattened.groupBy('jobDetail.title') \\\n",
    "    .agg(min(col('jobDetail.fromDate')).alias('firstSeenDate')) \\\n",
    "    .where(year(col('firstSeenDate')) == 2019)\n",
    "\n",
    "titles_started_in_2019_list = [row.title for row in titles_started_in_2019.collect()]\n",
    "\n",
    "popular_titles_in_2019 = df_flattened.groupBy('jobDetail.title') \\\n",
    "    .agg(count('jobDetail.title').alias('titleCount')) \\\n",
    "    .where(col('jobDetail.title').isin(titles_started_in_2019_list)) \\\n",
    "    .orderBy(desc('titleCount'))\n",
    "    \n",
    "\n",
    "popular_titles_in_2019.collect()[0][0]\n"
   ]
  },
  {
   "cell_type": "code",
   "execution_count": null,
   "id": "e09206ef-e357-4632-b645-c3e9df46f655",
   "metadata": {
    "tags": []
   },
   "outputs": [],
   "source": [
    "df_flattened = df_small.select(\n",
    "    'id',\n",
    "    'profile.firstName',\n",
    "    'profile.lastName', explode('profile.jobHistory').alias('jobDetail')\n",
    ")\n",
    "\n",
    "titles_started_in_2019 = df_flattened.groupBy('jobDetail.title') \\\n",
    "    .agg(min(col('jobDetail.fromDate')).alias('firstSeenDate')) \\\n",
    "    .where(year(col('firstSeenDate')) == 2019) \\\n",
    "    .select('title')\n",
    "\n",
    "title_counts = df_flattened.groupBy('jobDetail.title') \\\n",
    "    .agg(count('jobDetail.title').alias('titleCount'))\n",
    "\n",
    "popular_titles_in_2019 = titles_started_in_2019 \\\n",
    "    .join(title_counts, titles_started_in_2019.title == title_counts.title, 'inner') \\\n",
    "    .select(titles_started_in_2019.title, 'titleCount') \\\n",
    "    .orderBy(desc('titleCount'))\n",
    "\n",
    "popular_titles_in_2019.show(1)"
   ]
  },
  {
   "cell_type": "markdown",
   "id": "90aa8059-fec8-417b-abdd-26d3e9d2f31d",
   "metadata": {},
   "source": [
    "#### 9 - How many people are currently working?"
   ]
  },
  {
   "cell_type": "code",
   "execution_count": null,
   "id": "516add17-d48f-4e1e-910d-3978b9539907",
   "metadata": {
    "tags": []
   },
   "outputs": [],
   "source": [
    "from pyspark.sql.functions import countDistinct\n",
    "df_flattened = df_small.select(\n",
    "    'id',\n",
    "    'profile.firstName',\n",
    "    'profile.lastName', explode('profile.jobHistory').alias('jobDetail')\n",
    ")\n",
    "df_flattened.select('jobDetail.toDate')\n",
    "\n",
    "current_roles = df_flattened.where(isnull(col('jobDetail.toDate')))\n",
    "\n",
    "current_roles.select(countDistinct('id').alias('count_of_current_people_working')).show()"
   ]
  },
  {
   "cell_type": "markdown",
   "id": "89e62fbe-da59-41f5-9c27-b9c1870bcdab",
   "metadata": {},
   "source": [
    "#### 10 - For each person, list only their latest job\n",
    "##### Display the first 10 results, ordered by lastName descending, firstName ascending order."
   ]
  },
  {
   "cell_type": "code",
   "execution_count": null,
   "id": "68113f30-b005-4ca9-919a-062d31680bf7",
   "metadata": {
    "tags": []
   },
   "outputs": [],
   "source": [
    "df_flattened = df_small.select(\n",
    "    'id',\n",
    "    'profile.firstName',\n",
    "    'profile.lastName', explode('profile.jobHistory').alias('jobDetail')\n",
    ")\n",
    "df_flattened.select('jobDetail.toDate')\n",
    "\n",
    "df = df_flattened.groupBy('id', 'firstName', 'lastName') \\\n",
    "    .agg(max('jobDetail.fromDate').alias('maxFromDate'))\n",
    "\n",
    "df.show(truncate=False)"
   ]
  },
  {
   "cell_type": "code",
   "execution_count": null,
   "id": "050b6ef8-70ee-4b14-8f73-0d9e5ab80cac",
   "metadata": {
    "tags": []
   },
   "outputs": [],
   "source": [
    "df_flattened = df_small.select(\n",
    "    'id',\n",
    "    'profile.firstName',\n",
    "    'profile.lastName', explode('profile.jobHistory').alias('jobDetail')\n",
    ")\n",
    "df_max_dates = df_flattened.groupBy('id').agg(max('jobDetail.fromDate').alias('maxFromDate'))\n",
    "\n",
    "df_result = df_flattened.join(df_max_dates, on=['id']) \\\n",
    "    .where(col('jobDetail.fromDate') == col('maxFromDate')) \\\n",
    "    .select('id', 'firstName', 'lastName', 'jobDetail')\n",
    "\n",
    "df_result.show(truncate=False)"
   ]
  },
  {
   "cell_type": "markdown",
   "id": "128d4eda-5113-4ab1-840e-1a4ac9a25a16",
   "metadata": {},
   "source": [
    "#### 11 - For each person, list their highest paying job along with their first name, last name, salary and the year they made this salary\n",
    "##### Store the results in a dataframe, and then print out 10 results"
   ]
  },
  {
   "cell_type": "code",
   "execution_count": null,
   "id": "9a523e6a-4369-4549-8c7a-8f605b3f7e58",
   "metadata": {
    "tags": []
   },
   "outputs": [],
   "source": [
    "df_flattened = df_small.select(\n",
    "    'id',\n",
    "    'profile.firstName',\n",
    "    'profile.lastName', explode('profile.jobHistory').alias('jobDetail')\n",
    ")\n",
    "df_job_with_max_salary = df_flattened.groupBy('id').agg(max('jobDetail.salary').alias('salary'))\n",
    "df_job_with_max_salary\n",
    "\n",
    "df_result = df_flattened.join(df_max_dates, on=['id']) \\\n",
    "    .select('firstName', 'lastName', 'jobDetail.salary', year(col('jobDetail.fromDate')).alias('year'))\n",
    "\n",
    "df_result.show(10)"
   ]
  },
  {
   "cell_type": "markdown",
   "id": "e820343f-adfe-4760-aeec-f0d91d309c37",
   "metadata": {},
   "source": [
    "#### 12 - Write out the last result (question 11) in parquet format, compressed, partitioned by the year of their highest paying job"
   ]
  },
  {
   "cell_type": "code",
   "execution_count": null,
   "id": "edde5d74-725e-4c10-92a1-2e052e4311a0",
   "metadata": {
    "tags": []
   },
   "outputs": [],
   "source": [
    "df_result.write.partitionBy('year').parquet('output_data/', compression='gzip', mode='overwrite')"
   ]
  },
  {
   "cell_type": "code",
   "execution_count": null,
   "id": "f21a53ab-9300-4f7a-88f1-8392b33b8050",
   "metadata": {},
   "outputs": [],
   "source": []
  }
 ],
 "metadata": {
  "kernelspec": {
   "display_name": "Python 3 (ipykernel)",
   "language": "python",
   "name": "python3"
  },
  "language_info": {
   "codemirror_mode": {
    "name": "ipython",
    "version": 3
   },
   "file_extension": ".py",
   "mimetype": "text/x-python",
   "name": "python",
   "nbconvert_exporter": "python",
   "pygments_lexer": "ipython3",
   "version": "3.10.10"
  }
 },
 "nbformat": 4,
 "nbformat_minor": 5
}
