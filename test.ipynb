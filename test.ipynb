{
 "cells": [
  {
   "cell_type": "code",
   "execution_count": 1,
   "id": "8fe0e497-bfa9-4311-9cee-69446dd21f67",
   "metadata": {
    "tags": []
   },
   "outputs": [
    {
     "name": "stdout",
     "output_type": "stream",
     "text": [
      "+--------------------+---------+--------+--------------------+\n",
      "|                  id|firstName|lastName|           jobDetail|\n",
      "+--------------------+---------+--------+--------------------+\n",
      "|da313df5-9613-450...|   Daniel|  Pierce|{2016-09-08, Pert...|\n",
      "|da313df5-9613-450...|   Daniel|  Pierce|{2012-12-26, Pert...|\n",
      "|da313df5-9613-450...|   Daniel|  Pierce|{2008-03-28, Pert...|\n",
      "|da313df5-9613-450...|   Daniel|  Pierce|{2003-09-13, Pert...|\n",
      "|da313df5-9613-450...|   Daniel|  Pierce|{2003-07-03, Pert...|\n",
      "|da313df5-9613-450...|   Daniel|  Pierce|{1998-05-19, Pert...|\n",
      "|2238d6ef-ff70-4d5...|    Louis|  Hanson|{2015-03-10, Sydn...|\n",
      "|2238d6ef-ff70-4d5...|    Louis|  Hanson|{2014-02-10, Sydn...|\n",
      "|2238d6ef-ff70-4d5...|    Louis|  Hanson|{2012-04-22, Sydn...|\n",
      "|2238d6ef-ff70-4d5...|    Louis|  Hanson|{2011-05-04, Sydn...|\n",
      "+--------------------+---------+--------+--------------------+\n",
      "only showing top 10 rows\n",
      "\n"
     ]
    }
   ],
   "source": [
    "from pyspark.sql import SparkSession\n",
    "from pyspark.sql.functions import explode, desc\n",
    "\n",
    "import util\n",
    "\n",
    "spark = SparkSession.builder.appName(\"job-profile-analysis\").getOrCreate()\n",
    "\n",
    "df = spark.read.option(\"inferSchema\", \"true\").json(\"test_small/*.json\")\n",
    "\n",
    "# flatten the df to make analysis easier\n",
    "df = util.get_flattened_job_profile_data(df)\n",
    "\n",
    "df.show(10)"
   ]
  },
  {
   "cell_type": "code",
   "execution_count": 2,
   "id": "7dce0fdd-db86-4d64-8f87-563830110a39",
   "metadata": {
    "tags": []
   },
   "outputs": [],
   "source": [
    "from pyspark.sql.functions import explode, asc, desc, round, lower, isnull, col, sum, countDistinct, max"
   ]
  },
  {
   "cell_type": "code",
   "execution_count": 3,
   "id": "e71ef494-3d71-4cd2-b600-8bbc95b72fcf",
   "metadata": {
    "tags": []
   },
   "outputs": [
    {
     "name": "stdout",
     "output_type": "stream",
     "text": [
      "+------------------------------------+---------+--------+------------------------------------------------------+\n",
      "|id                                  |firstName|lastName|jobDetail                                             |\n",
      "+------------------------------------+---------+--------+------------------------------------------------------+\n",
      "|da313df5-9613-450a-9e71-45118dc6384a|Daniel   |Pierce  |{2016-09-08, Perth, 103000, dentist, 2019-04-08}      |\n",
      "|2238d6ef-ff70-4d50-9e93-39e95c6fded9|Louis    |Hanson  |{2015-03-10, Sydney, 61000, principal, 2019-04-10}    |\n",
      "|11214286-41bb-4d09-9821-98a6d5c4d026|Olive    |Bays    |{2013-06-02, Perth, 94000, paralegal, 2019-03-02}     |\n",
      "|3c035b6e-8483-49a5-92a1-131a6f256c91|Joe      |Johnson |{2014-09-23, Melbourne, 164000, devops engineer, null}|\n",
      "|3c035b6e-8483-49a5-92a1-131a6f256c97|Andrea   |Berryman|{2014-09-23, Melbourne, 144000, devops engineer, null}|\n",
      "|3c035b6e-8483-49a5-92a1-131a6f256c92|George   |Kastanza|{2014-09-23, Melbourne, 164000, actuary, null}        |\n",
      "|3c035b6e-8483-49a5-92a1-131a6f256c56|Bob1     |Barry   |{2018-09-23, Melbourne, 144000, old engineer, null}   |\n",
      "|3c035b6e-8483-49a5-92a1-131a6f256c42|Bob2     |Barry   |{2019-09-23, Melbourne, 144000, old engineer, null}   |\n",
      "|3c035b6e-8483-49a5-92a1-131a6f256c22|Bob3     |Barry   |{2019-09-30, Melbourne, 144000, old engineer, null}   |\n",
      "|3c035b6e-8483-49a5-92a1-131a6f256c21|Bob4     |Barry   |{2019-11-30, Melbourne, 144000, old engineer, null}   |\n",
      "|3c035b6e-8483-49a5-92a1-131a6f256c20|Bob5     |Barry   |{2019-09-23, Melbourne, 144000, prompt engineer, null}|\n",
      "|3c035b6e-8483-49a5-92a1-131a6f256c19|Bob6     |Barry   |{2019-04-23, Melbourne, 144000, prompt engineer, null}|\n",
      "|3c035b6e-8483-49a5-92a1-131a6f256c18|Bob7     |Barry   |{2019-06-23, Melbourne, 144000, doctor engineer, null}|\n",
      "|3c035b6e-8483-49a5-92a1-131a6f256c17|Bob8     |Barry   |{2020-09-23, Melbourne, 144000, new engineer, null}   |\n",
      "+------------------------------------+---------+--------+------------------------------------------------------+\n",
      "\n"
     ]
    }
   ],
   "source": [
    "# For each person, list only their latest job\n",
    "df_max_dates = df.groupBy('id').agg(max('jobDetail.fromDate').alias('maxFromDate'))\n",
    "\n",
    "df_result = df.join(df_max_dates, on=['id']) \\\n",
    "    .where(col('jobDetail.fromDate') == col('maxFromDate')) \\\n",
    "    .select('id', 'firstName', 'lastName', 'jobDetail')\n",
    "\n",
    "df_result.show(truncate=False)"
   ]
  },
  {
   "cell_type": "code",
   "execution_count": 4,
   "id": "7ee3f763-fd39-4816-88df-97fe661cc3ce",
   "metadata": {
    "tags": []
   },
   "outputs": [
    {
     "name": "stdout",
     "output_type": "stream",
     "text": [
      "+--------------------+---------+--------+--------------------+\n",
      "|                  id|firstName|lastName|           jobDetail|\n",
      "+--------------------+---------+--------+--------------------+\n",
      "|da313df5-9613-450...|   Daniel|  Pierce|{2016-09-08, Pert...|\n",
      "|2238d6ef-ff70-4d5...|    Louis|  Hanson|{2015-03-10, Sydn...|\n",
      "|11214286-41bb-4d0...|    Olive|    Bays|{2013-06-02, Pert...|\n",
      "|3c035b6e-8483-49a...|      Joe| Johnson|{2014-09-23, Melb...|\n",
      "|3c035b6e-8483-49a...|   Andrea|Berryman|{2014-09-23, Melb...|\n",
      "|3c035b6e-8483-49a...|   George|Kastanza|{2014-09-23, Melb...|\n",
      "|3c035b6e-8483-49a...|     Bob1|   Barry|{2018-09-23, Melb...|\n",
      "|3c035b6e-8483-49a...|     Bob2|   Barry|{2019-09-23, Melb...|\n",
      "|3c035b6e-8483-49a...|     Bob3|   Barry|{2019-09-30, Melb...|\n",
      "|3c035b6e-8483-49a...|     Bob4|   Barry|{2019-11-30, Melb...|\n",
      "|3c035b6e-8483-49a...|     Bob5|   Barry|{2019-09-23, Melb...|\n",
      "|3c035b6e-8483-49a...|     Bob6|   Barry|{2019-04-23, Melb...|\n",
      "|3c035b6e-8483-49a...|     Bob7|   Barry|{2019-06-23, Melb...|\n",
      "|3c035b6e-8483-49a...|     Bob8|   Barry|{2020-09-23, Melb...|\n",
      "+--------------------+---------+--------+--------------------+\n",
      "\n"
     ]
    }
   ],
   "source": [
    "util.get_most_recent_jobs_by_profile(df).show()"
   ]
  }
 ],
 "metadata": {
  "kernelspec": {
   "display_name": "Python 3 (ipykernel)",
   "language": "python",
   "name": "python3"
  },
  "language_info": {
   "codemirror_mode": {
    "name": "ipython",
    "version": 3
   },
   "file_extension": ".py",
   "mimetype": "text/x-python",
   "name": "python",
   "nbconvert_exporter": "python",
   "pygments_lexer": "ipython3",
   "version": "3.10.10"
  }
 },
 "nbformat": 4,
 "nbformat_minor": 5
}
